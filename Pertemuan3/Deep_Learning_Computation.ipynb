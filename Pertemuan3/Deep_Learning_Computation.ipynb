{
  "nbformat": 4,
  "nbformat_minor": 0,
  "metadata": {
    "colab": {
      "name": "Deep Learning Computation.ipynb",
      "provenance": []
    },
    "kernelspec": {
      "name": "python3",
      "display_name": "Python 3"
    },
    "language_info": {
      "name": "python"
    }
  },
  "cells": [
    {
      "cell_type": "code",
      "execution_count": 16,
      "metadata": {
        "id": "H7kvJX14FaBX"
      },
      "outputs": [],
      "source": [
        "import tensorflow as tf"
      ]
    },
    {
      "cell_type": "markdown",
      "source": [
        "# Layers and Blocks"
      ],
      "metadata": {
        "id": "yYoimJpZGjWb"
      }
    },
    {
      "cell_type": "code",
      "source": [
        "net = tf.keras.models.Sequential([\n",
        "    tf.keras.layers.Dense(256, activation=tf.nn.relu),\n",
        "    tf.keras.layers.Dense(10),\n",
        "])\n",
        "\n",
        "X = tf.random.uniform((2, 20))\n",
        "net(X)"
      ],
      "metadata": {
        "colab": {
          "base_uri": "https://localhost:8080/"
        },
        "id": "Hqh7WJDWGHS7",
        "outputId": "74070d49-57b1-45bf-f5ad-44c4c3528b54"
      },
      "execution_count": 17,
      "outputs": [
        {
          "output_type": "execute_result",
          "data": {
            "text/plain": [
              "<tf.Tensor: shape=(2, 10), dtype=float32, numpy=\n",
              "array([[-0.01428078,  0.09322949, -0.09008395,  0.2979754 , -0.2543663 ,\n",
              "        -0.19645092, -0.00395768,  0.01467552, -0.36376938,  0.15041693],\n",
              "       [-0.13024715,  0.33287895, -0.05019459,  0.29030573,  0.05229899,\n",
              "        -0.20493284, -0.06210567,  0.20211479, -0.36138535, -0.06127165]],\n",
              "      dtype=float32)>"
            ]
          },
          "metadata": {},
          "execution_count": 17
        }
      ]
    },
    {
      "cell_type": "markdown",
      "source": [
        "## A Custom Block"
      ],
      "metadata": {
        "id": "8K6ntQSgGoM3"
      }
    },
    {
      "cell_type": "code",
      "source": [
        "class MLP(tf.keras.Model):\n",
        "\n",
        "    def __init__(self):\n",
        "\n",
        "        super().__init__()\n",
        "        \n",
        "        self.hidden = tf.keras.layers.Dense(units=256, activation=tf.nn.relu)\n",
        "        self.out = tf.keras.layers.Dense(units=10)\n",
        "\n",
        "\n",
        "    def call(self, X):\n",
        "        return self.out(self.hidden((X)))\n"
      ],
      "metadata": {
        "id": "gly3KU3yGp9Y"
      },
      "execution_count": 18,
      "outputs": []
    },
    {
      "cell_type": "code",
      "source": [
        "net = MLP()\n",
        "net(X)"
      ],
      "metadata": {
        "colab": {
          "base_uri": "https://localhost:8080/"
        },
        "id": "0igqi0tgG2DL",
        "outputId": "06214e4a-cbf7-42e6-bbfe-25cba6e5934d"
      },
      "execution_count": 19,
      "outputs": [
        {
          "output_type": "execute_result",
          "data": {
            "text/plain": [
              "<tf.Tensor: shape=(2, 10), dtype=float32, numpy=\n",
              "array([[ 0.5574007 , -0.20781834, -0.18789206, -0.01031101,  0.01155946,\n",
              "         0.4410808 , -0.26910755, -0.08603245, -0.11692932,  0.31184253],\n",
              "       [ 0.4820602 , -0.12271253, -0.05463037, -0.01741287,  0.17176928,\n",
              "         0.33521494,  0.04367429, -0.00612284, -0.16062528,  0.01674779]],\n",
              "      dtype=float32)>"
            ]
          },
          "metadata": {},
          "execution_count": 19
        }
      ]
    },
    {
      "cell_type": "markdown",
      "source": [
        "## The Sequential Block"
      ],
      "metadata": {
        "id": "Zeqz4SyKG3r_"
      }
    },
    {
      "cell_type": "code",
      "source": [
        "class MySequential(tf.keras.Model):\n",
        "    def __init__(self, *args):\n",
        "        super().__init__()\n",
        "        self.modules = []\n",
        "        for block in args:\n",
        "\n",
        "            self.modules.append(block)\n",
        "\n",
        "    def call(self, X):\n",
        "        for module in self.modules:\n",
        "            X = module(X)\n",
        "        return X"
      ],
      "metadata": {
        "id": "A_bvzySUG6vV"
      },
      "execution_count": 20,
      "outputs": []
    },
    {
      "cell_type": "code",
      "source": [
        "net = MySequential(\n",
        "    tf.keras.layers.Dense(units=256, activation=tf.nn.relu),\n",
        "    tf.keras.layers.Dense(10))\n",
        "net(X)"
      ],
      "metadata": {
        "colab": {
          "base_uri": "https://localhost:8080/"
        },
        "id": "U5UV70nXG8Ww",
        "outputId": "cfe66f35-7f9f-4076-8d77-d95167da91f3"
      },
      "execution_count": 21,
      "outputs": [
        {
          "output_type": "execute_result",
          "data": {
            "text/plain": [
              "<tf.Tensor: shape=(2, 10), dtype=float32, numpy=\n",
              "array([[-0.17051524, -0.46032685,  0.10198548,  0.20917   ,  0.36131424,\n",
              "         0.00181762,  0.30198005,  0.3457077 ,  0.33865118,  0.13388312],\n",
              "       [-0.08400035, -0.21153684,  0.06554966,  0.00304362,  0.20790848,\n",
              "        -0.05397642,  0.07291701,  0.23324075,  0.15164194,  0.03614782]],\n",
              "      dtype=float32)>"
            ]
          },
          "metadata": {},
          "execution_count": 21
        }
      ]
    },
    {
      "cell_type": "markdown",
      "source": [
        "## Executing Code in the Forward Propagation Function"
      ],
      "metadata": {
        "id": "JeIlKoKbHDlg"
      }
    },
    {
      "cell_type": "code",
      "source": [
        "class FixedHiddenMLP(tf.keras.Model):\n",
        "    def __init__(self):\n",
        "        super().__init__()\n",
        "        self.flatten = tf.keras.layers.Flatten()\n",
        "\n",
        "        self.rand_weight = tf.constant(tf.random.uniform((20, 20)))\n",
        "        self.dense = tf.keras.layers.Dense(20, activation=tf.nn.relu)\n",
        "\n",
        "    def call(self, inputs):\n",
        "        X = self.flatten(inputs)\n",
        "\n",
        "        X = tf.nn.relu(tf.matmul(X, self.rand_weight) + 1)\n",
        "\n",
        "        X = self.dense(X)\n",
        "        \n",
        "        while tf.reduce_sum(tf.math.abs(X)) > 1:\n",
        "            X /= 2\n",
        "        return tf.reduce_sum(X)\n"
      ],
      "metadata": {
        "id": "WKIWwzVsHG62"
      },
      "execution_count": 22,
      "outputs": []
    },
    {
      "cell_type": "code",
      "source": [
        "net = FixedHiddenMLP()\n",
        "net(X)"
      ],
      "metadata": {
        "colab": {
          "base_uri": "https://localhost:8080/"
        },
        "id": "_NsYXYTsHLT6",
        "outputId": "d08b5e30-34d3-4401-d51c-7e901321d663"
      },
      "execution_count": 23,
      "outputs": [
        {
          "output_type": "execute_result",
          "data": {
            "text/plain": [
              "<tf.Tensor: shape=(), dtype=float32, numpy=0.7464899>"
            ]
          },
          "metadata": {},
          "execution_count": 23
        }
      ]
    },
    {
      "cell_type": "code",
      "source": [
        "class NestMLP(tf.keras.Model):\n",
        "    def __init__(self):\n",
        "        super().__init__()\n",
        "        self.net = tf.keras.Sequential()\n",
        "        self.net.add(tf.keras.layers.Dense(64, activation=tf.nn.relu))\n",
        "        self.net.add(tf.keras.layers.Dense(32, activation=tf.nn.relu))\n",
        "        self.dense = tf.keras.layers.Dense(16, activation=tf.nn.relu)\n",
        "\n",
        "    def call(self, inputs):\n",
        "        return self.dense(self.net(inputs))\n",
        "\n",
        "chimera = tf.keras.Sequential()\n",
        "chimera.add(NestMLP())\n",
        "chimera.add(tf.keras.layers.Dense(20))\n",
        "chimera.add(FixedHiddenMLP())\n",
        "chimera(X)"
      ],
      "metadata": {
        "colab": {
          "base_uri": "https://localhost:8080/"
        },
        "id": "zmPOF5MAHNnY",
        "outputId": "f255d492-d32d-4308-d293-2a0019752879"
      },
      "execution_count": 24,
      "outputs": [
        {
          "output_type": "execute_result",
          "data": {
            "text/plain": [
              "<tf.Tensor: shape=(), dtype=float32, numpy=0.70286834>"
            ]
          },
          "metadata": {},
          "execution_count": 24
        }
      ]
    },
    {
      "cell_type": "markdown",
      "source": [
        "# Parameter Management"
      ],
      "metadata": {
        "id": "U1nmIVobIoFE"
      }
    },
    {
      "cell_type": "code",
      "source": [
        "net = tf.keras.models.Sequential([\n",
        "    tf.keras.layers.Flatten(),\n",
        "    tf.keras.layers.Dense(4, activation=tf.nn.relu),\n",
        "    tf.keras.layers.Dense(1),\n",
        "])\n",
        "\n",
        "X = tf.random.uniform((2, 4))\n",
        "net(X)"
      ],
      "metadata": {
        "colab": {
          "base_uri": "https://localhost:8080/"
        },
        "id": "Ya2003uTIq9d",
        "outputId": "897a244f-e998-4384-bbf8-a48264a830b0"
      },
      "execution_count": 25,
      "outputs": [
        {
          "output_type": "execute_result",
          "data": {
            "text/plain": [
              "<tf.Tensor: shape=(2, 1), dtype=float32, numpy=\n",
              "array([[-0.15454806],\n",
              "       [ 0.5617555 ]], dtype=float32)>"
            ]
          },
          "metadata": {},
          "execution_count": 25
        }
      ]
    },
    {
      "cell_type": "markdown",
      "source": [
        "## Parameter Access"
      ],
      "metadata": {
        "id": "wEfjY8x9Jh6T"
      }
    },
    {
      "cell_type": "code",
      "source": [
        "print(net.layers[2].weights)"
      ],
      "metadata": {
        "colab": {
          "base_uri": "https://localhost:8080/"
        },
        "id": "zzHkf5H6JjbM",
        "outputId": "82ba29b6-de9a-4aa9-8525-4ac3ebaf1655"
      },
      "execution_count": 26,
      "outputs": [
        {
          "output_type": "stream",
          "name": "stdout",
          "text": [
            "[<tf.Variable 'dense_33/kernel:0' shape=(4, 1) dtype=float32, numpy=\n",
            "array([[-0.20560753],\n",
            "       [ 0.43194103],\n",
            "       [ 0.8268703 ],\n",
            "       [-0.5161398 ]], dtype=float32)>, <tf.Variable 'dense_33/bias:0' shape=(1,) dtype=float32, numpy=array([0.], dtype=float32)>]\n"
          ]
        }
      ]
    },
    {
      "cell_type": "markdown",
      "source": [
        "## Targeted Parameters"
      ],
      "metadata": {
        "id": "O2wyPpf6JmP4"
      }
    },
    {
      "cell_type": "code",
      "source": [
        "print(type(net.layers[2].weights[1]))\n",
        "print(net.layers[2].weights[1])\n",
        "print(tf.convert_to_tensor(net.layers[2].weights[1]))"
      ],
      "metadata": {
        "colab": {
          "base_uri": "https://localhost:8080/"
        },
        "id": "DpRfG9hKJmwO",
        "outputId": "d344cdec-2cc2-4d97-e412-2aca1bdeeee6"
      },
      "execution_count": 27,
      "outputs": [
        {
          "output_type": "stream",
          "name": "stdout",
          "text": [
            "<class 'tensorflow.python.ops.resource_variable_ops.ResourceVariable'>\n",
            "<tf.Variable 'dense_33/bias:0' shape=(1,) dtype=float32, numpy=array([0.], dtype=float32)>\n",
            "tf.Tensor([0.], shape=(1,), dtype=float32)\n"
          ]
        }
      ]
    },
    {
      "cell_type": "markdown",
      "source": [
        "## All Parameters at Once"
      ],
      "metadata": {
        "id": "p9v1rDfwJpiM"
      }
    },
    {
      "cell_type": "code",
      "source": [
        "print(net.layers[1].weights)\n",
        "print(net.get_weights())"
      ],
      "metadata": {
        "colab": {
          "base_uri": "https://localhost:8080/"
        },
        "id": "-LY1Ji5qJqdD",
        "outputId": "b2d8ea7f-eddb-491c-9fe4-e7fed37aba49"
      },
      "execution_count": 28,
      "outputs": [
        {
          "output_type": "stream",
          "name": "stdout",
          "text": [
            "[<tf.Variable 'dense_32/kernel:0' shape=(4, 4) dtype=float32, numpy=\n",
            "array([[ 0.82369334,  0.07516652,  0.67686516,  0.45998412],\n",
            "       [ 0.83738893,  0.6420091 , -0.4622448 , -0.21757215],\n",
            "       [ 0.50858706,  0.3512649 , -0.7855154 ,  0.6934604 ],\n",
            "       [ 0.3726321 ,  0.67377204,  0.47829133,  0.0514257 ]],\n",
            "      dtype=float32)>, <tf.Variable 'dense_32/bias:0' shape=(4,) dtype=float32, numpy=array([0., 0., 0., 0.], dtype=float32)>]\n",
            "[array([[ 0.82369334,  0.07516652,  0.67686516,  0.45998412],\n",
            "       [ 0.83738893,  0.6420091 , -0.4622448 , -0.21757215],\n",
            "       [ 0.50858706,  0.3512649 , -0.7855154 ,  0.6934604 ],\n",
            "       [ 0.3726321 ,  0.67377204,  0.47829133,  0.0514257 ]],\n",
            "      dtype=float32), array([0., 0., 0., 0.], dtype=float32), array([[-0.20560753],\n",
            "       [ 0.43194103],\n",
            "       [ 0.8268703 ],\n",
            "       [-0.5161398 ]], dtype=float32), array([0.], dtype=float32)]\n"
          ]
        }
      ]
    },
    {
      "cell_type": "code",
      "source": [
        "net.get_weights()[1]"
      ],
      "metadata": {
        "colab": {
          "base_uri": "https://localhost:8080/"
        },
        "id": "FkiPKA7rJtTr",
        "outputId": "5ff998b1-a167-409d-ccfe-701648fec498"
      },
      "execution_count": 29,
      "outputs": [
        {
          "output_type": "execute_result",
          "data": {
            "text/plain": [
              "array([0., 0., 0., 0.], dtype=float32)"
            ]
          },
          "metadata": {},
          "execution_count": 29
        }
      ]
    },
    {
      "cell_type": "markdown",
      "source": [
        "## Collecting Parameters from Nested Blocks"
      ],
      "metadata": {
        "id": "xlXEJuyXJsDs"
      }
    },
    {
      "cell_type": "code",
      "source": [
        "def block1(name):\n",
        "    return tf.keras.Sequential([\n",
        "        tf.keras.layers.Flatten(),\n",
        "        tf.keras.layers.Dense(4, activation=tf.nn.relu)],\n",
        "        name=name)\n",
        "\n",
        "def block2():\n",
        "    net = tf.keras.Sequential()\n",
        "    for i in range(4):\n",
        "        \n",
        "        net.add(block1(name=f'block-{i}'))\n",
        "    return net\n",
        "\n",
        "rgnet = tf.keras.Sequential()\n",
        "rgnet.add(block2())\n",
        "rgnet.add(tf.keras.layers.Dense(1))\n",
        "rgnet(X)\n"
      ],
      "metadata": {
        "colab": {
          "base_uri": "https://localhost:8080/"
        },
        "id": "TR8WY89OJxJE",
        "outputId": "8d649b50-4699-4ded-aa5d-c37aab054481"
      },
      "execution_count": 30,
      "outputs": [
        {
          "output_type": "execute_result",
          "data": {
            "text/plain": [
              "<tf.Tensor: shape=(2, 1), dtype=float32, numpy=\n",
              "array([[-0.07062218],\n",
              "       [-0.01365906]], dtype=float32)>"
            ]
          },
          "metadata": {},
          "execution_count": 30
        }
      ]
    },
    {
      "cell_type": "code",
      "source": [
        "print(rgnet.summary())"
      ],
      "metadata": {
        "colab": {
          "base_uri": "https://localhost:8080/"
        },
        "id": "O8Huk_UzJzvO",
        "outputId": "52f62d63-403f-4237-b41e-62a724fc8466"
      },
      "execution_count": 31,
      "outputs": [
        {
          "output_type": "stream",
          "name": "stdout",
          "text": [
            "Model: \"sequential_9\"\n",
            "_________________________________________________________________\n",
            " Layer (type)                Output Shape              Param #   \n",
            "=================================================================\n",
            " sequential_10 (Sequential)  (2, 4)                    80        \n",
            "                                                                 \n",
            " dense_38 (Dense)            (2, 1)                    5         \n",
            "                                                                 \n",
            "=================================================================\n",
            "Total params: 85\n",
            "Trainable params: 85\n",
            "Non-trainable params: 0\n",
            "_________________________________________________________________\n",
            "None\n"
          ]
        }
      ]
    },
    {
      "cell_type": "code",
      "source": [
        "rgnet.layers[0].layers[1].layers[1].weights[1]"
      ],
      "metadata": {
        "colab": {
          "base_uri": "https://localhost:8080/"
        },
        "id": "9XfFnGKpJ2rE",
        "outputId": "9d0b028c-64f9-4e5d-90b2-0126b63639af"
      },
      "execution_count": 32,
      "outputs": [
        {
          "output_type": "execute_result",
          "data": {
            "text/plain": [
              "<tf.Variable 'dense_35/bias:0' shape=(4,) dtype=float32, numpy=array([0., 0., 0., 0.], dtype=float32)>"
            ]
          },
          "metadata": {},
          "execution_count": 32
        }
      ]
    },
    {
      "cell_type": "markdown",
      "source": [
        "## Parameter Initialization"
      ],
      "metadata": {
        "id": "4DsafVL-J3Te"
      }
    },
    {
      "cell_type": "markdown",
      "source": [
        "## Built-in Initialization"
      ],
      "metadata": {
        "id": "PLNrjxcyJ-AJ"
      }
    },
    {
      "cell_type": "code",
      "source": [
        "net = tf.keras.models.Sequential([\n",
        "    tf.keras.layers.Flatten(),\n",
        "    tf.keras.layers.Dense(\n",
        "        4, activation=tf.nn.relu,\n",
        "        kernel_initializer=tf.random_normal_initializer(mean=0, stddev=0.01),\n",
        "        bias_initializer=tf.zeros_initializer()),\n",
        "    tf.keras.layers.Dense(1)])\n",
        "\n",
        "net(X)\n",
        "net.weights[0], net.weights[1]"
      ],
      "metadata": {
        "colab": {
          "base_uri": "https://localhost:8080/"
        },
        "id": "X-mi6-1UKA2f",
        "outputId": "ab377662-bcc0-4bdf-aaed-177227db20a5"
      },
      "execution_count": 33,
      "outputs": [
        {
          "output_type": "execute_result",
          "data": {
            "text/plain": [
              "(<tf.Variable 'dense_39/kernel:0' shape=(4, 4) dtype=float32, numpy=\n",
              " array([[ 0.00282042,  0.00914793,  0.02491274, -0.00587755],\n",
              "        [ 0.02280997,  0.00609103,  0.00287951, -0.01323005],\n",
              "        [-0.00394876,  0.02440245, -0.01391268,  0.00293388],\n",
              "        [-0.0174959 , -0.01561125,  0.0021481 , -0.00578594]],\n",
              "       dtype=float32)>,\n",
              " <tf.Variable 'dense_39/bias:0' shape=(4,) dtype=float32, numpy=array([0., 0., 0., 0.], dtype=float32)>)"
            ]
          },
          "metadata": {},
          "execution_count": 33
        }
      ]
    },
    {
      "cell_type": "code",
      "source": [
        "net = tf.keras.models.Sequential([\n",
        "    tf.keras.layers.Flatten(),\n",
        "    tf.keras.layers.Dense(\n",
        "        4, activation=tf.nn.relu,\n",
        "        kernel_initializer=tf.keras.initializers.Constant(1),\n",
        "        bias_initializer=tf.zeros_initializer()),\n",
        "    tf.keras.layers.Dense(1),\n",
        "])\n",
        "\n",
        "net(X)\n",
        "net.weights[0], net.weights[1]\n"
      ],
      "metadata": {
        "colab": {
          "base_uri": "https://localhost:8080/"
        },
        "id": "8tLiLiylKpuL",
        "outputId": "d5c882f0-10d5-4e81-c153-dfd14b9306f0"
      },
      "execution_count": 34,
      "outputs": [
        {
          "output_type": "execute_result",
          "data": {
            "text/plain": [
              "(<tf.Variable 'dense_41/kernel:0' shape=(4, 4) dtype=float32, numpy=\n",
              " array([[1., 1., 1., 1.],\n",
              "        [1., 1., 1., 1.],\n",
              "        [1., 1., 1., 1.],\n",
              "        [1., 1., 1., 1.]], dtype=float32)>,\n",
              " <tf.Variable 'dense_41/bias:0' shape=(4,) dtype=float32, numpy=array([0., 0., 0., 0.], dtype=float32)>)"
            ]
          },
          "metadata": {},
          "execution_count": 34
        }
      ]
    },
    {
      "cell_type": "code",
      "source": [
        "net = tf.keras.models.Sequential([\n",
        "    tf.keras.layers.Flatten(),\n",
        "    tf.keras.layers.Dense(\n",
        "        4,\n",
        "        activation=tf.nn.relu,\n",
        "        kernel_initializer=tf.keras.initializers.GlorotUniform()),\n",
        "    tf.keras.layers.Dense(\n",
        "        1, kernel_initializer=tf.keras.initializers.Constant(42)),\n",
        "])\n",
        "\n",
        "net(X)\n",
        "print(net.layers[1].weights[0])\n",
        "print(net.layers[2].weights[0])\n"
      ],
      "metadata": {
        "colab": {
          "base_uri": "https://localhost:8080/"
        },
        "id": "dq00tlsbKxw6",
        "outputId": "0cd08ca7-b38c-46b5-efca-a1bfdb5937ad"
      },
      "execution_count": 35,
      "outputs": [
        {
          "output_type": "stream",
          "name": "stdout",
          "text": [
            "<tf.Variable 'dense_43/kernel:0' shape=(4, 4) dtype=float32, numpy=\n",
            "array([[-0.48692226,  0.0603531 , -0.11693698, -0.45452198],\n",
            "       [-0.19843203, -0.6525388 , -0.6270709 , -0.50121003],\n",
            "       [-0.44447276,  0.24397904, -0.06346905, -0.53539574],\n",
            "       [ 0.8624938 , -0.73247886, -0.06466162,  0.6293157 ]],\n",
            "      dtype=float32)>\n",
            "<tf.Variable 'dense_44/kernel:0' shape=(4, 1) dtype=float32, numpy=\n",
            "array([[42.],\n",
            "       [42.],\n",
            "       [42.],\n",
            "       [42.]], dtype=float32)>\n"
          ]
        }
      ]
    },
    {
      "cell_type": "markdown",
      "source": [
        "## Custom Initialization"
      ],
      "metadata": {
        "id": "_dU5N9p0KzLk"
      }
    },
    {
      "cell_type": "code",
      "source": [
        "class MyInit(tf.keras.initializers.Initializer):\n",
        "    def __call__(self, shape, dtype=None):\n",
        "        data=tf.random.uniform(shape, -10, 10, dtype=dtype)\n",
        "        factor=(tf.abs(data) >= 5)\n",
        "        factor=tf.cast(factor, tf.float32)\n",
        "        return data * factor\n",
        "\n",
        "net = tf.keras.models.Sequential([\n",
        "    tf.keras.layers.Flatten(),\n",
        "    tf.keras.layers.Dense(\n",
        "        4,\n",
        "        activation=tf.nn.relu,\n",
        "        kernel_initializer=MyInit()),\n",
        "    tf.keras.layers.Dense(1),\n",
        "])\n",
        "\n",
        "net(X)\n",
        "print(net.layers[1].weights[0])\n"
      ],
      "metadata": {
        "colab": {
          "base_uri": "https://localhost:8080/"
        },
        "id": "yj2p6xGiK0wr",
        "outputId": "8ddd80e0-63f0-4369-ed0b-c87e62aee879"
      },
      "execution_count": 36,
      "outputs": [
        {
          "output_type": "stream",
          "name": "stdout",
          "text": [
            "<tf.Variable 'dense_45/kernel:0' shape=(4, 4) dtype=float32, numpy=\n",
            "array([[-6.841991 ,  0.       ,  5.939474 , -0.       ],\n",
            "       [ 9.488342 ,  0.       ,  0.       ,  6.6017456],\n",
            "       [ 0.       ,  7.2634506, -0.       ,  5.2517843],\n",
            "       [ 9.268473 ,  9.497379 ,  0.       ,  0.       ]], dtype=float32)>\n"
          ]
        }
      ]
    },
    {
      "cell_type": "code",
      "source": [
        "net.layers[1].weights[0][:].assign(net.layers[1].weights[0] + 1)\n",
        "net.layers[1].weights[0][0, 0].assign(42)\n",
        "net.layers[1].weights[0]\n"
      ],
      "metadata": {
        "colab": {
          "base_uri": "https://localhost:8080/"
        },
        "id": "1ZybHhfdK2vE",
        "outputId": "2b481387-09d1-49c9-89af-7d40230d4951"
      },
      "execution_count": 37,
      "outputs": [
        {
          "output_type": "execute_result",
          "data": {
            "text/plain": [
              "<tf.Variable 'dense_45/kernel:0' shape=(4, 4) dtype=float32, numpy=\n",
              "array([[42.       ,  1.       ,  6.939474 ,  1.       ],\n",
              "       [10.488342 ,  1.       ,  1.       ,  7.6017456],\n",
              "       [ 1.       ,  8.263451 ,  1.       ,  6.2517843],\n",
              "       [10.268473 , 10.497379 ,  1.       ,  1.       ]], dtype=float32)>"
            ]
          },
          "metadata": {},
          "execution_count": 37
        }
      ]
    },
    {
      "cell_type": "markdown",
      "source": [
        "## Tied Parameters"
      ],
      "metadata": {
        "id": "E7uJxqymK3gi"
      }
    },
    {
      "cell_type": "code",
      "source": [
        "\n",
        "shared = tf.keras.layers.Dense(4, activation=tf.nn.relu)\n",
        "net = tf.keras.models.Sequential([\n",
        "    tf.keras.layers.Flatten(),\n",
        "    shared,\n",
        "    shared,\n",
        "    tf.keras.layers.Dense(1),\n",
        "])\n",
        "\n",
        "net(X)\n",
        "\n",
        "print(len(net.layers) == 3)\n"
      ],
      "metadata": {
        "colab": {
          "base_uri": "https://localhost:8080/"
        },
        "id": "-FqHnsPmK-Lp",
        "outputId": "ded86ab0-9f96-424d-d337-81b833bda0a5"
      },
      "execution_count": 38,
      "outputs": [
        {
          "output_type": "stream",
          "name": "stdout",
          "text": [
            "True\n"
          ]
        }
      ]
    },
    {
      "cell_type": "markdown",
      "source": [
        "# Deferred Initialization"
      ],
      "metadata": {
        "id": "yiRGXVeJLnm-"
      }
    },
    {
      "cell_type": "markdown",
      "source": [
        "## Instantiating a Network"
      ],
      "metadata": {
        "id": "x6Y974fsLsWa"
      }
    },
    {
      "cell_type": "code",
      "source": [
        "net = tf.keras.models.Sequential([\n",
        "    tf.keras.layers.Dense(256, activation=tf.nn.relu),\n",
        "    tf.keras.layers.Dense(10),\n",
        "])"
      ],
      "metadata": {
        "id": "BezhD1wOLuf0"
      },
      "execution_count": 39,
      "outputs": []
    },
    {
      "cell_type": "code",
      "source": [
        "[net.layers[i].get_weights() for i in range(len(net.layers))]"
      ],
      "metadata": {
        "colab": {
          "base_uri": "https://localhost:8080/"
        },
        "id": "RPxkxDSXMwOl",
        "outputId": "ad980ff8-24b0-406a-a256-5c7b6979bc8a"
      },
      "execution_count": 40,
      "outputs": [
        {
          "output_type": "execute_result",
          "data": {
            "text/plain": [
              "[[], []]"
            ]
          },
          "metadata": {},
          "execution_count": 40
        }
      ]
    },
    {
      "cell_type": "code",
      "source": [
        "X = tf.random.uniform((2, 20))\n",
        "net(X)\n",
        "[w.shape for w in net.get_weights()]"
      ],
      "metadata": {
        "colab": {
          "base_uri": "https://localhost:8080/"
        },
        "id": "iCyCotj-Mz4E",
        "outputId": "fe7c86b3-0bef-4f68-b139-fe19a523af53"
      },
      "execution_count": 41,
      "outputs": [
        {
          "output_type": "execute_result",
          "data": {
            "text/plain": [
              "[(20, 256), (256,), (256, 10), (10,)]"
            ]
          },
          "metadata": {},
          "execution_count": 41
        }
      ]
    },
    {
      "cell_type": "markdown",
      "source": [
        "# Custom Layers"
      ],
      "metadata": {
        "id": "NJZb6POoLw2f"
      }
    },
    {
      "cell_type": "markdown",
      "source": [
        "## Layers without Parameters"
      ],
      "metadata": {
        "id": "ilb-PsnALy7-"
      }
    },
    {
      "cell_type": "code",
      "source": [
        "class CenteredLayer(tf.keras.Model):\n",
        "    def __init__(self):\n",
        "        super().__init__()\n",
        "\n",
        "    def call(self, inputs):\n",
        "        return inputs - tf.reduce_mean(inputs)"
      ],
      "metadata": {
        "id": "nS4wlLP_L0zS"
      },
      "execution_count": 42,
      "outputs": []
    },
    {
      "cell_type": "code",
      "source": [
        "layer = CenteredLayer()\n",
        "layer(tf.constant([1, 2, 3, 4, 5]))"
      ],
      "metadata": {
        "colab": {
          "base_uri": "https://localhost:8080/"
        },
        "id": "ujprAn0iM9LG",
        "outputId": "68e9e80f-d2cf-4d23-ff42-e2d179eb7b60"
      },
      "execution_count": 43,
      "outputs": [
        {
          "output_type": "execute_result",
          "data": {
            "text/plain": [
              "<tf.Tensor: shape=(5,), dtype=int32, numpy=array([-2, -1,  0,  1,  2], dtype=int32)>"
            ]
          },
          "metadata": {},
          "execution_count": 43
        }
      ]
    },
    {
      "cell_type": "code",
      "source": [
        "net = tf.keras.Sequential([tf.keras.layers.Dense(128), CenteredLayer()])"
      ],
      "metadata": {
        "id": "FZAh9dKaM-os"
      },
      "execution_count": 44,
      "outputs": []
    },
    {
      "cell_type": "code",
      "source": [
        "Y = net(tf.random.uniform((4, 8)))\n",
        "tf.reduce_mean(Y)"
      ],
      "metadata": {
        "colab": {
          "base_uri": "https://localhost:8080/"
        },
        "id": "5OQHU4rMM_2U",
        "outputId": "b4655280-217e-4e00-85fc-a6d12cc3e3c2"
      },
      "execution_count": 45,
      "outputs": [
        {
          "output_type": "execute_result",
          "data": {
            "text/plain": [
              "<tf.Tensor: shape=(), dtype=float32, numpy=-3.259629e-09>"
            ]
          },
          "metadata": {},
          "execution_count": 45
        }
      ]
    },
    {
      "cell_type": "markdown",
      "source": [
        "##  Layers with Parameters"
      ],
      "metadata": {
        "id": "hZPwbALSL1Oq"
      }
    },
    {
      "cell_type": "code",
      "source": [
        "class MyDense(tf.keras.Model):\n",
        "    def __init__(self, units):\n",
        "        super().__init__()\n",
        "        self.units = units\n",
        "\n",
        "    def build(self, X_shape):\n",
        "        self.weight = self.add_weight(name='weight',\n",
        "            shape=[X_shape[-1], self.units],\n",
        "            initializer=tf.random_normal_initializer())\n",
        "        self.bias = self.add_weight(\n",
        "            name='bias', shape=[self.units],\n",
        "            initializer=tf.zeros_initializer())\n",
        "\n",
        "    def call(self, X):\n",
        "        linear = tf.matmul(X, self.weight) + self.bias\n",
        "        return tf.nn.relu(linear)"
      ],
      "metadata": {
        "id": "XsVpfEj-L3FS"
      },
      "execution_count": 46,
      "outputs": []
    },
    {
      "cell_type": "code",
      "source": [
        "dense = MyDense(3)\n",
        "dense(tf.random.uniform((2, 5)))\n",
        "dense.get_weights()"
      ],
      "metadata": {
        "colab": {
          "base_uri": "https://localhost:8080/"
        },
        "id": "07miYvOuNCUU",
        "outputId": "279360bc-e0e5-470e-da1b-ce85ea6a6bb8"
      },
      "execution_count": 47,
      "outputs": [
        {
          "output_type": "execute_result",
          "data": {
            "text/plain": [
              "[array([[ 0.15277301,  0.05416867, -0.03340849],\n",
              "        [-0.03892843, -0.03945602,  0.07088908],\n",
              "        [ 0.07437005,  0.08346223,  0.06517704],\n",
              "        [ 0.00791574,  0.05780813, -0.02969188],\n",
              "        [ 0.003831  ,  0.04087809,  0.0210499 ]], dtype=float32),\n",
              " array([0., 0., 0.], dtype=float32)]"
            ]
          },
          "metadata": {},
          "execution_count": 47
        }
      ]
    },
    {
      "cell_type": "code",
      "source": [
        "dense(tf.random.uniform((2, 5)))"
      ],
      "metadata": {
        "colab": {
          "base_uri": "https://localhost:8080/"
        },
        "id": "bMyGTpkNNDZh",
        "outputId": "69e43579-0c91-4428-b532-2fa0103b4ce7"
      },
      "execution_count": 48,
      "outputs": [
        {
          "output_type": "execute_result",
          "data": {
            "text/plain": [
              "<tf.Tensor: shape=(2, 3), dtype=float32, numpy=\n",
              "array([[0.13314623, 0.08451811, 0.07346228],\n",
              "       [0.03696066, 0.08522607, 0.01726006]], dtype=float32)>"
            ]
          },
          "metadata": {},
          "execution_count": 48
        }
      ]
    },
    {
      "cell_type": "code",
      "source": [
        "net = tf.keras.models.Sequential([MyDense(8), MyDense(1)])\n",
        "net(tf.random.uniform((2, 64)))"
      ],
      "metadata": {
        "colab": {
          "base_uri": "https://localhost:8080/"
        },
        "id": "KQ1IPKUNNExS",
        "outputId": "f08db139-0cf0-46ad-f385-8b3f4a089295"
      },
      "execution_count": 49,
      "outputs": [
        {
          "output_type": "execute_result",
          "data": {
            "text/plain": [
              "<tf.Tensor: shape=(2, 1), dtype=float32, numpy=\n",
              "array([[0.        ],\n",
              "       [0.00945512]], dtype=float32)>"
            ]
          },
          "metadata": {},
          "execution_count": 49
        }
      ]
    },
    {
      "cell_type": "markdown",
      "source": [
        "# File I/O"
      ],
      "metadata": {
        "id": "vFM4gQ6jL3Qt"
      }
    },
    {
      "cell_type": "markdown",
      "source": [
        "## Loading and Saving Tensors"
      ],
      "metadata": {
        "id": "z6NSvLp3L6sp"
      }
    },
    {
      "cell_type": "code",
      "source": [
        "import numpy as np"
      ],
      "metadata": {
        "id": "aqLkHSyOOD0q"
      },
      "execution_count": 51,
      "outputs": []
    },
    {
      "cell_type": "code",
      "source": [
        "x = tf.range(4)\n",
        "np.save('x-file.npy', x)"
      ],
      "metadata": {
        "id": "aS-WXDghL7_W"
      },
      "execution_count": 52,
      "outputs": []
    },
    {
      "cell_type": "code",
      "source": [
        "x2 = np.load('x-file.npy', allow_pickle=True)\n",
        "x2"
      ],
      "metadata": {
        "colab": {
          "base_uri": "https://localhost:8080/"
        },
        "id": "udv5FWbeNKiL",
        "outputId": "85dbd8f1-d4eb-46ae-bcaa-4533a1fb7356"
      },
      "execution_count": 53,
      "outputs": [
        {
          "output_type": "execute_result",
          "data": {
            "text/plain": [
              "array([0, 1, 2, 3], dtype=int32)"
            ]
          },
          "metadata": {},
          "execution_count": 53
        }
      ]
    },
    {
      "cell_type": "code",
      "source": [
        "y = tf.zeros(4)\n",
        "np.save('xy-files.npy', [x, y])\n",
        "x2, y2 = np.load('xy-files.npy', allow_pickle=True)\n",
        "(x2, y2)"
      ],
      "metadata": {
        "colab": {
          "base_uri": "https://localhost:8080/"
        },
        "id": "M67iILzTNLs6",
        "outputId": "f4b5ae7a-0189-4f99-9246-689dd16c6eb6"
      },
      "execution_count": 54,
      "outputs": [
        {
          "output_type": "execute_result",
          "data": {
            "text/plain": [
              "(array([0., 1., 2., 3.]), array([0., 0., 0., 0.]))"
            ]
          },
          "metadata": {},
          "execution_count": 54
        }
      ]
    },
    {
      "cell_type": "code",
      "source": [
        "mydict = {'x': x, 'y': y}\n",
        "np.save('mydict.npy', mydict)\n",
        "mydict2 = np.load('mydict.npy', allow_pickle=True)\n",
        "mydict2"
      ],
      "metadata": {
        "colab": {
          "base_uri": "https://localhost:8080/"
        },
        "id": "eKb7rq4kNLzV",
        "outputId": "6a9e0f1b-3f29-4249-ebe1-3319e07614cf"
      },
      "execution_count": 55,
      "outputs": [
        {
          "output_type": "execute_result",
          "data": {
            "text/plain": [
              "array({'x': <tf.Tensor: shape=(4,), dtype=int32, numpy=array([0, 1, 2, 3], dtype=int32)>, 'y': <tf.Tensor: shape=(4,), dtype=float32, numpy=array([0., 0., 0., 0.], dtype=float32)>},\n",
              "      dtype=object)"
            ]
          },
          "metadata": {},
          "execution_count": 55
        }
      ]
    },
    {
      "cell_type": "markdown",
      "source": [
        "## Loading and Saving Model Parameters"
      ],
      "metadata": {
        "id": "QeMdtw2OL8G2"
      }
    },
    {
      "cell_type": "code",
      "source": [
        "class MLP(tf.keras.Model):\n",
        "    def __init__(self):\n",
        "        super().__init__()\n",
        "        self.flatten = tf.keras.layers.Flatten()\n",
        "        self.hidden = tf.keras.layers.Dense(units=256, activation=tf.nn.relu)\n",
        "        self.out = tf.keras.layers.Dense(units=10)\n",
        "\n",
        "    def call(self, inputs):\n",
        "        x = self.flatten(inputs)\n",
        "        x = self.hidden(x)\n",
        "        return self.out(x)\n",
        "\n",
        "net = MLP()\n",
        "X = tf.random.uniform((2, 20))\n",
        "Y = net(X)"
      ],
      "metadata": {
        "id": "1TVoLI4sL_Ab"
      },
      "execution_count": 56,
      "outputs": []
    },
    {
      "cell_type": "code",
      "source": [
        "net.save_weights('mlp.params')"
      ],
      "metadata": {
        "id": "SBY_UZLZNQhd"
      },
      "execution_count": 57,
      "outputs": []
    },
    {
      "cell_type": "code",
      "source": [
        "clone = MLP()\n",
        "clone.load_weights('mlp.params')"
      ],
      "metadata": {
        "colab": {
          "base_uri": "https://localhost:8080/"
        },
        "id": "hxoXy3uCNQ3l",
        "outputId": "af8a2b8d-1d08-43da-bf96-4a67c8418d1c"
      },
      "execution_count": 58,
      "outputs": [
        {
          "output_type": "execute_result",
          "data": {
            "text/plain": [
              "<tensorflow.python.training.tracking.util.CheckpointLoadStatus at 0x7f105cac10d0>"
            ]
          },
          "metadata": {},
          "execution_count": 58
        }
      ]
    },
    {
      "cell_type": "code",
      "source": [
        "Y_clone = clone(X)\n",
        "Y_clone == Y"
      ],
      "metadata": {
        "colab": {
          "base_uri": "https://localhost:8080/"
        },
        "id": "G9dLskGeNR49",
        "outputId": "cc640b86-6b8d-481d-ec09-882ba5bcea09"
      },
      "execution_count": 59,
      "outputs": [
        {
          "output_type": "execute_result",
          "data": {
            "text/plain": [
              "<tf.Tensor: shape=(2, 10), dtype=bool, numpy=\n",
              "array([[ True,  True,  True,  True,  True,  True,  True,  True,  True,\n",
              "         True],\n",
              "       [ True,  True,  True,  True,  True,  True,  True,  True,  True,\n",
              "         True]])>"
            ]
          },
          "metadata": {},
          "execution_count": 59
        }
      ]
    },
    {
      "cell_type": "markdown",
      "source": [
        "# GPUs"
      ],
      "metadata": {
        "id": "StGpLVmlL-Yi"
      }
    },
    {
      "cell_type": "markdown",
      "source": [
        "## Computing Devices"
      ],
      "metadata": {
        "id": "cHHPG2fjMBYO"
      }
    },
    {
      "cell_type": "code",
      "source": [
        "tf.device('/CPU:0'), tf.device('/GPU:0'), tf.device('/GPU:1')"
      ],
      "metadata": {
        "colab": {
          "base_uri": "https://localhost:8080/"
        },
        "id": "t8J0XOBjMDXj",
        "outputId": "f96c5c19-cd1f-49bf-c165-8d13c8f5c82d"
      },
      "execution_count": 60,
      "outputs": [
        {
          "output_type": "execute_result",
          "data": {
            "text/plain": [
              "(<tensorflow.python.eager.context._EagerDeviceContext at 0x7f105c9c2780>,\n",
              " <tensorflow.python.eager.context._EagerDeviceContext at 0x7f105c9c28c0>,\n",
              " <tensorflow.python.eager.context._EagerDeviceContext at 0x7f105c9c2dc0>)"
            ]
          },
          "metadata": {},
          "execution_count": 60
        }
      ]
    },
    {
      "cell_type": "code",
      "source": [
        "len(tf.config.experimental.list_physical_devices('GPU'))"
      ],
      "metadata": {
        "colab": {
          "base_uri": "https://localhost:8080/"
        },
        "id": "Z64erHP-MFde",
        "outputId": "6696e335-9937-4254-ec1c-5bcbf8aa5ea9"
      },
      "execution_count": 61,
      "outputs": [
        {
          "output_type": "execute_result",
          "data": {
            "text/plain": [
              "0"
            ]
          },
          "metadata": {},
          "execution_count": 61
        }
      ]
    },
    {
      "cell_type": "code",
      "source": [
        "def try_gpu(i=0):\n",
        "    \"\"\"Return gpu(i) if exists, otherwise return cpu().\"\"\"\n",
        "    if len(tf.config.experimental.list_physical_devices('GPU')) >= i + 1:\n",
        "        return tf.device(f'/GPU:{i}')\n",
        "    return tf.device('/CPU:0')\n",
        "\n",
        "def try_all_gpus():\n",
        "    \"\"\"Return all available GPUs, or [cpu(),] if no GPU exists.\"\"\"\n",
        "    num_gpus = len(tf.config.experimental.list_physical_devices('GPU'))\n",
        "    devices = [tf.device(f'/GPU:{i}') for i in range(num_gpus)]\n",
        "    return devices if devices else [tf.device('/CPU:0')]\n",
        "\n",
        "try_gpu(), try_gpu(10), try_all_gpus()"
      ],
      "metadata": {
        "colab": {
          "base_uri": "https://localhost:8080/"
        },
        "id": "IRD5Qh-uNfs-",
        "outputId": "216df757-84a8-4b33-d645-691cfbfd3804"
      },
      "execution_count": 62,
      "outputs": [
        {
          "output_type": "execute_result",
          "data": {
            "text/plain": [
              "(<tensorflow.python.eager.context._EagerDeviceContext at 0x7f105c9d2a00>,\n",
              " <tensorflow.python.eager.context._EagerDeviceContext at 0x7f105c9c40f0>,\n",
              " [<tensorflow.python.eager.context._EagerDeviceContext at 0x7f105c9c40a0>])"
            ]
          },
          "metadata": {},
          "execution_count": 62
        }
      ]
    },
    {
      "cell_type": "markdown",
      "source": [
        "## Tensors and GPUs"
      ],
      "metadata": {
        "id": "-I2Asu74MEht"
      }
    },
    {
      "cell_type": "code",
      "source": [
        "x = tf.constant([1, 2, 3])\n",
        "x.device"
      ],
      "metadata": {
        "colab": {
          "base_uri": "https://localhost:8080/",
          "height": 35
        },
        "id": "PIuJhgpkNn3u",
        "outputId": "32b6386b-35f4-49d2-faff-47d8ac7b5216"
      },
      "execution_count": 63,
      "outputs": [
        {
          "output_type": "execute_result",
          "data": {
            "text/plain": [
              "'/job:localhost/replica:0/task:0/device:CPU:0'"
            ],
            "application/vnd.google.colaboratory.intrinsic+json": {
              "type": "string"
            }
          },
          "metadata": {},
          "execution_count": 63
        }
      ]
    },
    {
      "cell_type": "markdown",
      "source": [
        "### Storage on the GPU"
      ],
      "metadata": {
        "id": "3x8Us82dNq2a"
      }
    },
    {
      "cell_type": "code",
      "source": [
        "with try_gpu():\n",
        "    X = tf.ones((2, 3))\n",
        "X"
      ],
      "metadata": {
        "colab": {
          "base_uri": "https://localhost:8080/"
        },
        "id": "61QM4amtNtKM",
        "outputId": "ed086b01-fbe9-4506-81fd-8f2722b4c733"
      },
      "execution_count": 64,
      "outputs": [
        {
          "output_type": "execute_result",
          "data": {
            "text/plain": [
              "<tf.Tensor: shape=(2, 3), dtype=float32, numpy=\n",
              "array([[1., 1., 1.],\n",
              "       [1., 1., 1.]], dtype=float32)>"
            ]
          },
          "metadata": {},
          "execution_count": 64
        }
      ]
    },
    {
      "cell_type": "code",
      "source": [
        "with try_gpu(1):\n",
        "    Y = tf.random.uniform((2, 3))\n",
        "Y"
      ],
      "metadata": {
        "colab": {
          "base_uri": "https://localhost:8080/"
        },
        "id": "bhOWzohFNvea",
        "outputId": "864ef39d-58d3-4bfd-944e-3bdb0f6e0b58"
      },
      "execution_count": 65,
      "outputs": [
        {
          "output_type": "execute_result",
          "data": {
            "text/plain": [
              "<tf.Tensor: shape=(2, 3), dtype=float32, numpy=\n",
              "array([[9.8908198e-01, 3.0840039e-02, 3.8397312e-04],\n",
              "       [1.2076485e-01, 9.5040560e-02, 6.9281840e-01]], dtype=float32)>"
            ]
          },
          "metadata": {},
          "execution_count": 65
        }
      ]
    },
    {
      "cell_type": "markdown",
      "source": [
        "### Copying"
      ],
      "metadata": {
        "id": "V2z-fJFrNwh_"
      }
    },
    {
      "cell_type": "code",
      "source": [
        "with try_gpu(1):\n",
        "    Z = X\n",
        "print(X)\n",
        "print(Z)"
      ],
      "metadata": {
        "colab": {
          "base_uri": "https://localhost:8080/"
        },
        "id": "fTCmlnZnNyDQ",
        "outputId": "cd8e6ea7-8314-44b6-e68b-7a4465c215a1"
      },
      "execution_count": 66,
      "outputs": [
        {
          "output_type": "stream",
          "name": "stdout",
          "text": [
            "tf.Tensor(\n",
            "[[1. 1. 1.]\n",
            " [1. 1. 1.]], shape=(2, 3), dtype=float32)\n",
            "tf.Tensor(\n",
            "[[1. 1. 1.]\n",
            " [1. 1. 1.]], shape=(2, 3), dtype=float32)\n"
          ]
        }
      ]
    },
    {
      "cell_type": "code",
      "source": [
        "Y + Z"
      ],
      "metadata": {
        "colab": {
          "base_uri": "https://localhost:8080/"
        },
        "id": "fhK3LgJqNzr3",
        "outputId": "22eccb11-6995-46d6-8abe-3cd87350be6a"
      },
      "execution_count": 67,
      "outputs": [
        {
          "output_type": "execute_result",
          "data": {
            "text/plain": [
              "<tf.Tensor: shape=(2, 3), dtype=float32, numpy=\n",
              "array([[1.989082 , 1.03084  , 1.000384 ],\n",
              "       [1.1207649, 1.0950406, 1.6928184]], dtype=float32)>"
            ]
          },
          "metadata": {},
          "execution_count": 67
        }
      ]
    },
    {
      "cell_type": "code",
      "source": [
        "with try_gpu(1):\n",
        "    Z2 = Z\n",
        "Z2 is Z"
      ],
      "metadata": {
        "colab": {
          "base_uri": "https://localhost:8080/"
        },
        "id": "1eQtEMODN1Y2",
        "outputId": "fb11360d-7eff-462f-edf7-4d502e1021bd"
      },
      "execution_count": 68,
      "outputs": [
        {
          "output_type": "execute_result",
          "data": {
            "text/plain": [
              "True"
            ]
          },
          "metadata": {},
          "execution_count": 68
        }
      ]
    },
    {
      "cell_type": "markdown",
      "source": [
        "## Neural Networks and GPUs"
      ],
      "metadata": {
        "id": "iXNrpELGMFlN"
      }
    },
    {
      "cell_type": "code",
      "source": [
        "strategy = tf.distribute.MirroredStrategy()\n",
        "with strategy.scope():\n",
        "    net = tf.keras.models.Sequential([\n",
        "        tf.keras.layers.Dense(1)])"
      ],
      "metadata": {
        "colab": {
          "base_uri": "https://localhost:8080/"
        },
        "id": "KQYj1S-0N34P",
        "outputId": "15c9449c-500d-44c8-ba00-a25d8faf3c03"
      },
      "execution_count": 69,
      "outputs": [
        {
          "output_type": "stream",
          "name": "stdout",
          "text": [
            "WARNING:tensorflow:There are non-GPU devices in `tf.distribute.Strategy`, not using nccl allreduce.\n",
            "INFO:tensorflow:Using MirroredStrategy with devices ('/job:localhost/replica:0/task:0/device:CPU:0',)\n"
          ]
        }
      ]
    },
    {
      "cell_type": "code",
      "source": [
        "net(X)"
      ],
      "metadata": {
        "colab": {
          "base_uri": "https://localhost:8080/"
        },
        "id": "6D1Wqeo0N6jS",
        "outputId": "d4996820-867d-4dda-e642-3108763437db"
      },
      "execution_count": 70,
      "outputs": [
        {
          "output_type": "execute_result",
          "data": {
            "text/plain": [
              "<tf.Tensor: shape=(2, 1), dtype=float32, numpy=\n",
              "array([[2.0643282],\n",
              "       [2.0643282]], dtype=float32)>"
            ]
          },
          "metadata": {},
          "execution_count": 70
        }
      ]
    },
    {
      "cell_type": "code",
      "source": [
        "net.layers[0].weights[0].device, net.layers[0].weights[1].device"
      ],
      "metadata": {
        "colab": {
          "base_uri": "https://localhost:8080/"
        },
        "id": "GwZGrQTYN8gc",
        "outputId": "3033c64a-5285-4b04-b8fb-c2d36573d6d4"
      },
      "execution_count": 71,
      "outputs": [
        {
          "output_type": "execute_result",
          "data": {
            "text/plain": [
              "('/job:localhost/replica:0/task:0/device:CPU:0',\n",
              " '/job:localhost/replica:0/task:0/device:CPU:0')"
            ]
          },
          "metadata": {},
          "execution_count": 71
        }
      ]
    }
  ]
}