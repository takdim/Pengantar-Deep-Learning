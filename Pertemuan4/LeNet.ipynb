{
  "nbformat": 4,
  "nbformat_minor": 0,
  "metadata": {
    "colab": {
      "name": "LeNet.ipynb",
      "provenance": []
    },
    "kernelspec": {
      "name": "python3",
      "display_name": "Python 3"
    },
    "language_info": {
      "name": "python"
    }
  },
  "cells": [
    {
      "cell_type": "code",
      "execution_count": 1,
      "metadata": {
        "id": "kdkxGiDk32au"
      },
      "outputs": [],
      "source": [
        "import matplotlib.pyplot as plt"
      ]
    },
    {
      "cell_type": "code",
      "source": [
        "import tensorflow as tf"
      ],
      "metadata": {
        "id": "ic2EjRGZ4buj"
      },
      "execution_count": 2,
      "outputs": []
    },
    {
      "cell_type": "code",
      "source": [
        "# dengan menggunakan dataset paling umum dan terkemuka yaitu MNIST\n",
        "mnist = tf.keras.datasets.mnist"
      ],
      "metadata": {
        "id": "RfutZCqr4eZG"
      },
      "execution_count": 3,
      "outputs": []
    },
    {
      "cell_type": "code",
      "source": [
        "# load data dan gunakan pada xtrain dan ytrain\n",
        "(x_train, y_train), (x_test, y_test) = mnist.load_data()"
      ],
      "metadata": {
        "id": "wk7OC8Fo5yjb"
      },
      "execution_count": 4,
      "outputs": []
    },
    {
      "cell_type": "code",
      "source": [
        "# mengatur 28*28 baris dan kolom\n",
        "rows, cols = 28, 28"
      ],
      "metadata": {
        "id": "JmU0XhNV6JUO"
      },
      "execution_count": 5,
      "outputs": []
    },
    {
      "cell_type": "code",
      "source": [
        "x_train = x_train.reshape(x_train.shape[0], rows, cols, 1)\n",
        "x_test = x_test.reshape(x_test.shape[0], rows, cols, 1)"
      ],
      "metadata": {
        "id": "gQS3BBSH6Nf1"
      },
      "execution_count": 6,
      "outputs": []
    },
    {
      "cell_type": "code",
      "source": [
        "input_shape = (rows, cols, 1)"
      ],
      "metadata": {
        "id": "lDFto6ai6bt6"
      },
      "execution_count": 7,
      "outputs": []
    },
    {
      "cell_type": "code",
      "source": [
        "#normalize\n",
        "x_train = x_train.astype('float32')\n",
        "x_test = x_test.astype('float32')\n",
        "x_train = x_train / 255.0\n",
        "x_test = x_test / 255.0"
      ],
      "metadata": {
        "id": "LV7T-CgO6kqF"
      },
      "execution_count": 8,
      "outputs": []
    },
    {
      "cell_type": "code",
      "source": [
        "#onehot necode\n",
        "y_train = tf.keras.utils.to_categorical(y_train, 10)\n",
        "y_test = tf.keras.utils.to_categorical(y_test, 10)"
      ],
      "metadata": {
        "id": "S6wWEOgi6zaI"
      },
      "execution_count": 9,
      "outputs": []
    },
    {
      "cell_type": "code",
      "source": [
        "def build_lenet(input_shape):\n",
        "    model = tf.keras.Sequential()\n",
        "    # filter konvolusi seperti yang kita ketahui adalah 6. ukuran filter adalah \n",
        "    # 5 x 5, tanh adalah fungsi aktivasi. 28x28 adalah dimensinya\n",
        "    model.add(tf.keras.layers.Conv2D(filters=6,\n",
        "                                     kernel_size = (5,5),\n",
        "                                     strides = (1,1),\n",
        "                                     activation = 'tanh',\n",
        "                                     input_shape = input_shape))\n",
        "    # subsampling hanyalah pengumpulan rata-rata maka gunakan avg_pool\n",
        "    model.add(tf.keras.layers.AveragePooling2D(pool_size = (2,2),\n",
        "                                               strides = (2,2)))\n",
        "    model.add(tf.keras.layers.Conv2D(filters = 16,\n",
        "                                     kernel_size = (5,5),\n",
        "                                     strides =  (1,1),\n",
        "                                     activation = 'tanh'))\n",
        "    model.add(tf.keras.layers.AveragePooling2D(pool_size = (2,2),\n",
        "                                               strides = (2,2)))\n",
        "    model.add(tf.keras.layers.Flatten())\n",
        "    model.add(tf.keras.layers.Dense(units = 120,\n",
        "                                    activation = 'tanh'))\n",
        "    model.add(tf.keras.layers.Flatten())\n",
        "    model.add(tf.keras.layers.Dense(units = 84,\n",
        "                                      activation = 'tanh'))\n",
        "    model.add(tf.keras.layers.Dense(units = 10,\n",
        "                                    activation = 'softmax'))\n",
        "    model.compile(loss='categorical_crossentropy',\n",
        "                  optimizer = tf.keras.optimizers.SGD(lr = 0.1,momentum = 0.0,decay = 0.0),\n",
        "                  metrics = ['accuracy'])\n",
        "    return model"
      ],
      "metadata": {
        "id": "_iVpuvQD7B6_"
      },
      "execution_count": 10,
      "outputs": []
    },
    {
      "cell_type": "code",
      "source": [
        "lenet = build_lenet(input_shape)"
      ],
      "metadata": {
        "colab": {
          "base_uri": "https://localhost:8080/"
        },
        "id": "isdeAI8Q7lok",
        "outputId": "a47df66c-67bc-4290-8e77-20f5a7933664"
      },
      "execution_count": 11,
      "outputs": [
        {
          "output_type": "stream",
          "name": "stderr",
          "text": [
            "/usr/local/lib/python3.7/dist-packages/keras/optimizer_v2/gradient_descent.py:102: UserWarning: The `lr` argument is deprecated, use `learning_rate` instead.\n",
            "  super(SGD, self).__init__(name, **kwargs)\n"
          ]
        }
      ]
    },
    {
      "cell_type": "code",
      "source": [
        "epochs = 10"
      ],
      "metadata": {
        "id": "JE_Jn0OA9mQO"
      },
      "execution_count": 12,
      "outputs": []
    },
    {
      "cell_type": "code",
      "source": [
        "history = lenet.fit(x_train, y_train,\n",
        "                    epochs = epochs,\n",
        "                    batch_size = 128,\n",
        "                    verbose = 1)"
      ],
      "metadata": {
        "colab": {
          "base_uri": "https://localhost:8080/"
        },
        "id": "_RJK6HDFACkG",
        "outputId": "7ada125d-f47a-4caa-d154-6ccf3bb3c357"
      },
      "execution_count": 13,
      "outputs": [
        {
          "output_type": "stream",
          "name": "stdout",
          "text": [
            "Epoch 1/10\n",
            "469/469 [==============================] - 24s 50ms/step - loss: 0.4040 - accuracy: 0.8877\n",
            "Epoch 2/10\n",
            "469/469 [==============================] - 19s 41ms/step - loss: 0.1613 - accuracy: 0.9524\n",
            "Epoch 3/10\n",
            "469/469 [==============================] - 19s 41ms/step - loss: 0.1083 - accuracy: 0.9684\n",
            "Epoch 4/10\n",
            "469/469 [==============================] - 19s 41ms/step - loss: 0.0835 - accuracy: 0.9752\n",
            "Epoch 5/10\n",
            "469/469 [==============================] - 20s 42ms/step - loss: 0.0684 - accuracy: 0.9794\n",
            "Epoch 6/10\n",
            "469/469 [==============================] - 19s 41ms/step - loss: 0.0583 - accuracy: 0.9825\n",
            "Epoch 7/10\n",
            "469/469 [==============================] - 19s 40ms/step - loss: 0.0518 - accuracy: 0.9844\n",
            "Epoch 8/10\n",
            "469/469 [==============================] - 19s 40ms/step - loss: 0.0459 - accuracy: 0.9861\n",
            "Epoch 9/10\n",
            "469/469 [==============================] - 19s 41ms/step - loss: 0.0414 - accuracy: 0.9873\n",
            "Epoch 10/10\n",
            "469/469 [==============================] - 19s 41ms/step - loss: 0.0379 - accuracy: 0.9886\n"
          ]
        }
      ]
    },
    {
      "cell_type": "code",
      "source": [
        "loss, acc = (lenet.evaluate(x_test, y_test))\n",
        "print('Accuracy: ', acc)"
      ],
      "metadata": {
        "colab": {
          "base_uri": "https://localhost:8080/"
        },
        "id": "XJsiacsBARYn",
        "outputId": "d4fdd4ce-18b7-4934-ff9f-403b72934f16"
      },
      "execution_count": 14,
      "outputs": [
        {
          "output_type": "stream",
          "name": "stdout",
          "text": [
            "313/313 [==============================] - 2s 7ms/step - loss: 0.0363 - accuracy: 0.9880\n",
            "Accuracy:  0.9879999756813049\n"
          ]
        }
      ]
    },
    {
      "cell_type": "code",
      "source": [
        "x_train = x_train.reshape(x_train.shape[0], 28, 28)\n",
        "print('Training Data ', x_train.shape, y_train.shape)"
      ],
      "metadata": {
        "colab": {
          "base_uri": "https://localhost:8080/"
        },
        "id": "G7IAIiIQAaBB",
        "outputId": "f0aa6b97-2c3c-4f74-fcc0-b8d6f0f6a0da"
      },
      "execution_count": 15,
      "outputs": [
        {
          "output_type": "stream",
          "name": "stdout",
          "text": [
            "Training Data  (60000, 28, 28) (60000, 10)\n"
          ]
        }
      ]
    },
    {
      "cell_type": "code",
      "source": [
        "x_test = x_test.reshape(x_test.shape[0], 28, 28)\n",
        "print('Training Data ', x_test.shape, y_test.shape)"
      ],
      "metadata": {
        "colab": {
          "base_uri": "https://localhost:8080/"
        },
        "id": "5z_aYatOAnuN",
        "outputId": "cb1f961f-cbdf-46d0-86fe-730e664a5a25"
      },
      "execution_count": 16,
      "outputs": [
        {
          "output_type": "stream",
          "name": "stdout",
          "text": [
            "Training Data  (10000, 28, 28) (10000, 10)\n"
          ]
        }
      ]
    },
    {
      "cell_type": "code",
      "source": [
        "image_index = 4444"
      ],
      "metadata": {
        "id": "ExcHxfoZBF4w"
      },
      "execution_count": 17,
      "outputs": []
    },
    {
      "cell_type": "code",
      "source": [
        "plt.imshow(x_test[image_index].reshape(28, 28), cmap= 'Greys')"
      ],
      "metadata": {
        "colab": {
          "base_uri": "https://localhost:8080/",
          "height": 282
        },
        "id": "vEDZs3juBSZm",
        "outputId": "7ce0bb51-accf-4617-d2ca-cde05321714a"
      },
      "execution_count": 18,
      "outputs": [
        {
          "output_type": "execute_result",
          "data": {
            "text/plain": [
              "<matplotlib.image.AxesImage at 0x7f60ca658ed0>"
            ]
          },
          "metadata": {},
          "execution_count": 18
        },
        {
          "output_type": "display_data",
          "data": {
            "text/plain": [
              "<Figure size 432x288 with 1 Axes>"
            ],
            "image/png": "[encoded data removed]"
          },
          "metadata": {
            "needs_background": "light"
          }
        }
      ]
    },
    {
      "cell_type": "code",
      "source": [
        "pred = lenet.predict(x_test[image_index].reshape(1, rows, cols, 1))"
      ],
      "metadata": {
        "id": "bpneFVTkBUJL"
      },
      "execution_count": 19,
      "outputs": []
    },
    {
      "cell_type": "code",
      "source": [
        "print(pred.argmax())"
      ],
      "metadata": {
        "colab": {
          "base_uri": "https://localhost:8080/"
        },
        "id": "L5Sc3pyRBcg0",
        "outputId": "71b7a901-2db1-43f3-979f-7e399dfbee25"
      },
      "execution_count": 20,
      "outputs": [
        {
          "output_type": "stream",
          "name": "stdout",
          "text": [
            "9\n"
          ]
        }
      ]
    }
  ]
}